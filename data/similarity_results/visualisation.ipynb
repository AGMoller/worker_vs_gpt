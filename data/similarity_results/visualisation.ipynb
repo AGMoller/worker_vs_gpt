{
 "cells": [
  {
   "cell_type": "code",
   "execution_count": null,
   "metadata": {},
   "outputs": [],
   "source": [
    "import os\n",
    "import json\n",
    "import pandas as pd\n",
    "import matplotlib.pyplot as plt\n",
    "import seaborn as sns\n",
    "import numpy as np\n",
    "\n",
    "from typing import List, Tuple, Dict, Callable\n",
    "\n",
    "# disable warnings\n",
    "import warnings\n",
    "\n",
    "warnings.filterwarnings(\"ignore\")"
   ]
  },
  {
   "cell_type": "code",
   "execution_count": null,
   "metadata": {},
   "outputs": [],
   "source": [
    "# Compute avg similarity for each base sample\n",
    "similarities_avg_individual = {k: {} for k in labels}\n",
    "for label, dict_with_similarities in data.items():\n",
    "    for text in dict_with_similarities:\n",
    "        list_similarities = [x[0] for x in dict_with_similarities[text]]\n",
    "        similarities_avg_individual[label][text] = sum(list_similarities) / len(\n",
    "            list_similarities\n",
    "        )\n",
    "\n",
    "# Compute avg similarity for each label\n",
    "similarities_avg_label = {k: [] for k in labels}\n",
    "similarities_list_label = {k: [] for k in labels}\n",
    "for label, dict_with_similarities in similarities_avg_individual.items():\n",
    "    for text, similarity in dict_with_similarities.items():\n",
    "        similarities_avg_label[label].append(similarity)\n",
    "        similarities_list_label[label].append(similarity)\n",
    "\n",
    "    similarities_avg_label[label] = sum(similarities_avg_label[label]) / len(\n",
    "        similarities_avg_label[label]\n",
    "    )"
   ]
  },
  {
   "attachments": {},
   "cell_type": "markdown",
   "metadata": {},
   "source": [
    "# Boxplot with all similarities for all files\n",
    "\n",
    "# Ten-dim"
   ]
  },
  {
   "cell_type": "code",
   "execution_count": null,
   "metadata": {},
   "outputs": [],
   "source": [
    "files = [file for file in os.listdir() if file.startswith('ten-dim')]\n",
    "labels: List[str] = [\n",
    "            \"social_support\",\n",
    "            \"conflict\",\n",
    "            \"trust\",\n",
    "            \"neutral\",\n",
    "            \"fun\",\n",
    "            \"respect\",\n",
    "            \"knowledge\",\n",
    "            \"power\",\n",
    "            \"similarity_identity\",\n",
    "        ]\n",
    "\n",
    "df = pd.DataFrame(columns=[\"label\", \"similarity\", \"dataset\"])\n",
    "\n",
    "for filename in files:\n",
    "    with open(filename) as f:\n",
    "        data = json.load(f)\n",
    "\n",
    "    similarities_concatenated = {k: [] for k in labels}\n",
    "    for label, dict_with_similarities in data.items():\n",
    "        for text in dict_with_similarities:\n",
    "            list_similarities = [x[0] for x in dict_with_similarities[text]]\n",
    "            similarities_concatenated[label].extend(list_similarities)\n",
    "\n",
    "    for label, similarities in similarities_concatenated.items():\n",
    "        df = df.append(pd.DataFrame({\"label\": [label] * len(similarities), \"similarity\": similarities, \"dataset\": [filename.split('_augmented_similarity.json')[0]] * len(similarities)}))\n",
    "\n",
    "# set figure size\n",
    "plt.figure(figsize=(15, 15))\n",
    "\n",
    "sns.boxplot(data=df, x=\"similarity\", y=\"label\", hue=\"dataset\")\n",
    "\n",
    "plt.tight_layout()\n",
    "plt.show()"
   ]
  },
  {
   "attachments": {},
   "cell_type": "markdown",
   "metadata": {},
   "source": [
    "## Sentiment"
   ]
  },
  {
   "cell_type": "code",
   "execution_count": null,
   "metadata": {},
   "outputs": [],
   "source": [
    "files = [file for file in os.listdir() if file.startswith('sentiment')]\n",
    "labels: List[str] = [\n",
    "            \"negative\",\n",
    "            \"neutral\",\n",
    "            \"positive\",\n",
    "        ]\n",
    "\n",
    "df = pd.DataFrame(columns=[\"label\", \"similarity\", \"dataset\"])\n",
    "\n",
    "for filename in files:\n",
    "    with open(filename) as f:\n",
    "        data = json.load(f)\n",
    "\n",
    "    similarities_concatenated = {k: [] for k in labels}\n",
    "    for label, dict_with_similarities in data.items():\n",
    "        for text in dict_with_similarities:\n",
    "            list_similarities = [x[0] for x in dict_with_similarities[text]]\n",
    "            similarities_concatenated[label].extend(list_similarities)\n",
    "\n",
    "    for label, similarities in similarities_concatenated.items():\n",
    "        df = df.append(pd.DataFrame({\"label\": [label] * len(similarities), \"similarity\": similarities, \"dataset\": [filename.split('_augmented_similarity.json')[0]] * len(similarities)}))\n",
    "\n",
    "# set figure size\n",
    "plt.figure(figsize=(15, 15))\n",
    "\n",
    "sns.boxplot(data=df, x=\"similarity\", y=\"label\", hue=\"dataset\")\n",
    "\n",
    "plt.tight_layout()\n",
    "plt.show()"
   ]
  },
  {
   "attachments": {},
   "cell_type": "markdown",
   "metadata": {},
   "source": [
    "## Hate-speech"
   ]
  },
  {
   "cell_type": "code",
   "execution_count": null,
   "metadata": {},
   "outputs": [],
   "source": [
    "files = [file for file in os.listdir() if file.startswith('hate-speech')]\n",
    "labels: List[str] = [\"NOT\", \"OFF\"]\n",
    "\n",
    "df = pd.DataFrame(columns=[\"label\", \"similarity\", \"dataset\"])\n",
    "\n",
    "for filename in files:\n",
    "    with open(filename) as f:\n",
    "        data = json.load(f)\n",
    "\n",
    "    similarities_concatenated = {k: [] for k in labels}\n",
    "    for label, dict_with_similarities in data.items():\n",
    "        for text in dict_with_similarities:\n",
    "            list_similarities = [x[0] for x in dict_with_similarities[text]]\n",
    "            similarities_concatenated[label].extend(list_similarities)\n",
    "\n",
    "    for label, similarities in similarities_concatenated.items():\n",
    "        df = df.append(pd.DataFrame({\"label\": [label] * len(similarities), \"similarity\": similarities, \"dataset\": [filename.split('_augmented_similarity.json')[0]] * len(similarities)}))\n",
    "\n",
    "# set figure size\n",
    "plt.figure(figsize=(15, 15))\n",
    "\n",
    "sns.boxplot(data=df, x=\"similarity\", y=\"label\", hue=\"dataset\")\n",
    "\n",
    "plt.tight_layout()\n",
    "plt.show()"
   ]
  },
  {
   "cell_type": "code",
   "execution_count": null,
   "metadata": {},
   "outputs": [],
   "source": []
  }
 ],
 "metadata": {
  "kernelspec": {
   "display_name": ".venv",
   "language": "python",
   "name": "python3"
  },
  "language_info": {
   "codemirror_mode": {
    "name": "ipython",
    "version": 3
   },
   "file_extension": ".py",
   "mimetype": "text/x-python",
   "name": "python",
   "nbconvert_exporter": "python",
   "pygments_lexer": "ipython3",
   "version": "3.10.9"
  },
  "orig_nbformat": 4
 },
 "nbformat": 4,
 "nbformat_minor": 2
}
